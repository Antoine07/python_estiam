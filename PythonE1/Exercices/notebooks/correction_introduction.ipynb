{
 "cells": [
  {
   "cell_type": "code",
   "execution_count": 10,
   "id": "82e660a0-9185-4847-8988-fd185d1aa560",
   "metadata": {},
   "outputs": [
    {
     "data": {
      "text/plain": [
       "1"
      ]
     },
     "execution_count": 10,
     "metadata": {},
     "output_type": "execute_result"
    }
   ],
   "source": [
    "def increment(count):\n",
    "\n",
    "    return count + 1\n",
    "\n",
    "increment(0) # affichera 0"
   ]
  },
  {
   "cell_type": "code",
   "execution_count": 14,
   "id": "cc50f4fa-5dbe-494e-86d0-dd9b4fccb2b0",
   "metadata": {},
   "outputs": [
    {
     "name": "stdout",
     "output_type": "stream",
     "text": [
      "4\n"
     ]
    }
   ],
   "source": [
    "count = 0\n",
    "count = increment(count) # count ? 1\n",
    "count = increment(count) # count ? 2\n",
    "count = increment(count) # count ? 3\n",
    "count = increment(count) # count ? 4\n",
    "print(count)"
   ]
  },
  {
   "cell_type": "code",
   "execution_count": 15,
   "id": "1b48364b-fd7e-4bea-8f89-d4593fc4513d",
   "metadata": {},
   "outputs": [
    {
     "name": "stdout",
     "output_type": "stream",
     "text": [
      "2\n"
     ]
    }
   ],
   "source": [
    "count = 0\n",
    "# combien d'exécution => 2 \n",
    "for _ in range(2):\n",
    "    count = increment(count) # count ? 1, 2\n",
    "\n",
    "print(count) # 2"
   ]
  },
  {
   "cell_type": "code",
   "execution_count": null,
   "id": "9aa2988b-dd98-4f9c-a138-a8efe8066243",
   "metadata": {},
   "outputs": [],
   "source": []
  }
 ],
 "metadata": {
  "kernelspec": {
   "display_name": "Python 3 (ipykernel)",
   "language": "python",
   "name": "python3"
  },
  "language_info": {
   "codemirror_mode": {
    "name": "ipython",
    "version": 3
   },
   "file_extension": ".py",
   "mimetype": "text/x-python",
   "name": "python",
   "nbconvert_exporter": "python",
   "pygments_lexer": "ipython3",
   "version": "3.13.3"
  }
 },
 "nbformat": 4,
 "nbformat_minor": 5
}
