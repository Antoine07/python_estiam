{
 "cells": [
  {
   "cell_type": "code",
   "execution_count": 10,
   "id": "82e660a0-9185-4847-8988-fd185d1aa560",
   "metadata": {},
   "outputs": [
    {
     "data": {
      "text/plain": [
       "1"
      ]
     },
     "execution_count": 10,
     "metadata": {},
     "output_type": "execute_result"
    }
   ],
   "source": [
    "def increment(count):\n",
    "\n",
    "    return count + 1\n",
    "\n",
    "increment(0) # affichera 0"
   ]
  },
  {
   "cell_type": "code",
   "execution_count": 14,
   "id": "cc50f4fa-5dbe-494e-86d0-dd9b4fccb2b0",
   "metadata": {},
   "outputs": [
    {
     "name": "stdout",
     "output_type": "stream",
     "text": [
      "4\n"
     ]
    }
   ],
   "source": [
    "count = 0\n",
    "count = increment(count) # count ? 1\n",
    "count = increment(count) # count ? 2\n",
    "count = increment(count) # count ? 3\n",
    "count = increment(count) # count ? 4\n",
    "print(count)"
   ]
  },
  {
   "cell_type": "code",
   "execution_count": 15,
   "id": "1b48364b-fd7e-4bea-8f89-d4593fc4513d",
   "metadata": {},
   "outputs": [
    {
     "name": "stdout",
     "output_type": "stream",
     "text": [
      "2\n"
     ]
    }
   ],
   "source": [
    "count = 0\n",
    "# combien d'exécution => 2 \n",
    "for _ in range(2):\n",
    "    count = increment(count) # count ? 1, 2\n",
    "\n",
    "print(count) # 2"
   ]
  },
  {
   "cell_type": "markdown",
   "id": "6f2835e3-198f-4084-a786-291bbc22576c",
   "metadata": {},
   "source": [
    "Créer une liste de nombres, calculer leur moyenne à l'aide de sum() et len()."
   ]
  },
  {
   "cell_type": "code",
   "execution_count": 18,
   "id": "d29671c0-5b86-4f93-8805-4db20a96619f",
   "metadata": {},
   "outputs": [
    {
     "name": "stdout",
     "output_type": "stream",
     "text": [
      "7.6\n"
     ]
    }
   ],
   "source": [
    "numbers = [ 1, 3, 7, 8, 19 ]\n",
    "\n",
    "average = round( sum(numbers) / len(numbers), 2 ) # round prend 2 chiffres après la virgule \n",
    "\n",
    "print(average)"
   ]
  },
  {
   "cell_type": "code",
   "execution_count": 20,
   "id": "c52004b1-882c-4d83-a6df-af09b6410d78",
   "metadata": {},
   "outputs": [
    {
     "data": {
      "text/plain": [
       "12.8"
      ]
     },
     "execution_count": 20,
     "metadata": {},
     "output_type": "execute_result"
    }
   ],
   "source": [
    "round( 12.78919, 1 )"
   ]
  },
  {
   "cell_type": "code",
   "execution_count": 23,
   "id": "4840f920-937a-4da1-a613-88640fe6f2da",
   "metadata": {},
   "outputs": [
    {
     "name": "stdout",
     "output_type": "stream",
     "text": [
      "18.0\n"
     ]
    }
   ],
   "source": [
    "# pensez à rendre vos programme plus sûr, testez si votre liste de nombre n'est pas vide\n",
    "numbers = [ 17, 19 ]\n",
    "\n",
    "if len(numbers) > 0:\n",
    "    average = round( sum(numbers) / len(numbers), 2 ) # round prend 2 chiffres après la virgule \n",
    "    print(average)"
   ]
  },
  {
   "cell_type": "code",
   "execution_count": 24,
   "id": "60606e3d-e64b-49fa-968f-3fc4bfa8c6b4",
   "metadata": {},
   "outputs": [
    {
     "name": "stdout",
     "output_type": "stream",
     "text": [
      "7.6\n"
     ]
    }
   ],
   "source": [
    "s = 0\n",
    "numbers = [ 1, 3, 7, 8, 19 ]\n",
    "for number in numbers:\n",
    "    # s = s + number \n",
    "    s += number\n",
    "if len(numbers) > 0:\n",
    "    average = round( s / len(numbers), 2)\n",
    "    print(average)"
   ]
  },
  {
   "cell_type": "markdown",
   "id": "1d0273ea-49f8-48d1-8ce7-3f110b75e722",
   "metadata": {},
   "source": [
    "Transformer un dictionnaire {nom: age} en ajoutant +1 à chaque âge."
   ]
  },
  {
   "cell_type": "code",
   "execution_count": 25,
   "id": "3f07486c-5b89-448b-a52e-aa8a37bdd3d1",
   "metadata": {},
   "outputs": [],
   "source": [
    "students = {\n",
    "    \"Alice\": 85,\n",
    "    \"Bob\": 92,\n",
    "    \"Charlie\": 78,\n",
    "    \"David\": 90,\n",
    "    \"Eva\": 88\n",
    "}"
   ]
  },
  {
   "cell_type": "code",
   "execution_count": 26,
   "id": "3a49db12-ccbb-42bf-829e-e67635aa6af3",
   "metadata": {},
   "outputs": [
    {
     "data": {
      "text/plain": [
       "{'Alice': 86, 'Bob': 93, 'Charlie': 79, 'David': 91, 'Eva': 89}"
      ]
     },
     "execution_count": 26,
     "metadata": {},
     "output_type": "execute_result"
    }
   ],
   "source": [
    "for k in students: \n",
    "    students[k] += 1\n",
    "\n",
    "students"
   ]
  },
  {
   "cell_type": "code",
   "execution_count": 27,
   "id": "ac795155-4e9f-42af-bb28-ab69ed63901a",
   "metadata": {},
   "outputs": [
    {
     "data": {
      "text/plain": [
       "<function id(obj, /)>"
      ]
     },
     "execution_count": 27,
     "metadata": {},
     "output_type": "execute_result"
    }
   ],
   "source": [
    "id # déterminer l'adresse en mémoire de vos variables"
   ]
  },
  {
   "cell_type": "markdown",
   "id": "ba187cf1-0b02-4140-8005-fc1ee2ba61fb",
   "metadata": {},
   "source": [
    "Expliquer ce qui se passe en mémoire quand on écrit x += 1 pour un entier.\n",
    "\n",
    "Comparer le comportement de += sur un entier et sur une liste.\n",
    "Observer ce qui change en mémoire avant et après l'opération.\n",
    "\n",
    "```python\n",
    "x = 1\n",
    "id(x) # donne une valeur qui représente l'adresse mémoire de la variable\n",
    "```"
   ]
  },
  {
   "cell_type": "code",
   "execution_count": 28,
   "id": "84d94a15-8ba8-4beb-a886-1dcaaf14b658",
   "metadata": {},
   "outputs": [
    {
     "name": "stdout",
     "output_type": "stream",
     "text": [
      "4391365272\n"
     ]
    }
   ],
   "source": [
    "x = 3\n",
    "print( id(x) ) # adresse mémoire de la variable dans Python"
   ]
  },
  {
   "cell_type": "code",
   "execution_count": 29,
   "id": "27844ee2-d7b8-4a32-9d05-79bde826db07",
   "metadata": {},
   "outputs": [
    {
     "data": {
      "text/plain": [
       "4391365304"
      ]
     },
     "execution_count": 29,
     "metadata": {},
     "output_type": "execute_result"
    }
   ],
   "source": [
    "x += 1 # x = x + 1\n",
    "print( id(x) ) # des objets non mutables x est une valeur primitive int "
   ]
  },
  {
   "cell_type": "code",
   "execution_count": 30,
   "id": "3e16f5c5-2492-4856-b44d-dfe8337d8405",
   "metadata": {},
   "outputs": [
    {
     "name": "stdout",
     "output_type": "stream",
     "text": [
      "4420929984\n"
     ]
    }
   ],
   "source": [
    "numbers = [ 1, 2 ]\n",
    "print( id (numbers) )"
   ]
  },
  {
   "cell_type": "code",
   "execution_count": 31,
   "id": "2ede389b-23eb-4099-86cd-973bdc3cb767",
   "metadata": {},
   "outputs": [],
   "source": [
    "numbers.append( 3 )"
   ]
  },
  {
   "cell_type": "code",
   "execution_count": 32,
   "id": "e02ebff6-a3eb-4ce2-b915-9ef82304affd",
   "metadata": {},
   "outputs": [
    {
     "name": "stdout",
     "output_type": "stream",
     "text": [
      "4420929984\n"
     ]
    }
   ],
   "source": [
    "print( id (numbers) ) # variable de type objet mutable qui ont la même adresse mémoire"
   ]
  },
  {
   "cell_type": "code",
   "execution_count": 33,
   "id": "755c8921-f4b6-4724-a398-86220597b214",
   "metadata": {},
   "outputs": [],
   "source": [
    "# Soit la liste notes suivantes \n",
    "notes = [ 11, 20, 18 ]\n",
    "new_notes = notes\n",
    "new_notes.append(11)\n",
    "\n",
    "# Que devient la liste notes du début "
   ]
  },
  {
   "cell_type": "code",
   "execution_count": 34,
   "id": "1fba3005-bca0-4e8c-86f6-160c26836b47",
   "metadata": {},
   "outputs": [
    {
     "data": {
      "text/plain": [
       "[11, 20, 18, 11]"
      ]
     },
     "execution_count": 34,
     "metadata": {},
     "output_type": "execute_result"
    }
   ],
   "source": [
    "notes"
   ]
  },
  {
   "cell_type": "code",
   "execution_count": 35,
   "id": "11243c68-e9b7-4c0c-a6ef-61a98a2b7640",
   "metadata": {},
   "outputs": [
    {
     "name": "stdout",
     "output_type": "stream",
     "text": [
      "4435725184\n",
      "4435725184\n"
     ]
    }
   ],
   "source": [
    "print( id(notes) ) \n",
    "print( id(new_notes) )"
   ]
  },
  {
   "cell_type": "code",
   "execution_count": 36,
   "id": "c0f779c8-6c1f-4533-bcce-d2546c8dcf54",
   "metadata": {},
   "outputs": [],
   "source": [
    "# Calculez la moyenne des valeurs suivantes en considérant les coefficients respectifs\n",
    "notes = [ 11, 20, 18, 10, 17, 9 ]\n",
    "coeff = [ 2, 5, 1, 2, 2, 1]"
   ]
  },
  {
   "cell_type": "code",
   "execution_count": 40,
   "id": "70c5012d-6b49-4756-a94b-f7bfa4956767",
   "metadata": {},
   "outputs": [
    {
     "name": "stdout",
     "output_type": "stream",
     "text": [
      "La moyenne est 15.62.\n"
     ]
    }
   ],
   "source": [
    "dim = len(notes)\n",
    "nb = sum( coeff )\n",
    "s = 0\n",
    "for i in range(dim):\n",
    "    s += notes[i] * coeff[i]\n",
    "\n",
    "if nb > 0:\n",
    "    print( f\"La moyenne est {round(s/nb, 2)}\" ) # f devant une chaine de caractères permet d'insérer des variables dynamiquement"
   ]
  },
  {
   "cell_type": "code",
   "execution_count": null,
   "id": "c3ba2c50-04f2-4109-b460-c409d9cc0e7d",
   "metadata": {},
   "outputs": [],
   "source": []
  }
 ],
 "metadata": {
  "kernelspec": {
   "display_name": "Python 3 (ipykernel)",
   "language": "python",
   "name": "python3"
  },
  "language_info": {
   "codemirror_mode": {
    "name": "ipython",
    "version": 3
   },
   "file_extension": ".py",
   "mimetype": "text/x-python",
   "name": "python",
   "nbconvert_exporter": "python",
   "pygments_lexer": "ipython3",
   "version": "3.13.3"
  }
 },
 "nbformat": 4,
 "nbformat_minor": 5
}
