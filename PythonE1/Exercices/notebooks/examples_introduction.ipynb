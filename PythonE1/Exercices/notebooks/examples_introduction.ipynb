{
 "cells": [
  {
   "cell_type": "code",
   "execution_count": 10,
   "id": "c3b48cd4-ec83-4d2d-b323-e495db56b2c7",
   "metadata": {},
   "outputs": [
    {
     "name": "stdout",
     "output_type": "stream",
     "text": [
      "Dans inner : local\n",
      "Dans le module : global\n"
     ]
    }
   ],
   "source": [
    "x = \"global\"\n",
    "\n",
    "def outer():\n",
    "    x = \"enclosing\"\n",
    "    def inner():\n",
    "        x = \"local\"\n",
    "        print(\"Dans inner :\", x)\n",
    "    inner()\n",
    "\n",
    "outer()\n",
    "print(\"Dans le module :\", x)"
   ]
  },
  {
   "cell_type": "code",
   "execution_count": 11,
   "id": "2996fcc8-d038-4361-a67b-f379813d95e3",
   "metadata": {},
   "outputs": [
    {
     "name": "stdout",
     "output_type": "stream",
     "text": [
      "dans outer Y GLOBAL\n",
      "dans inner Y GLOBAL\n",
      "Dans inner : local\n",
      "Dans le module : global\n"
     ]
    }
   ],
   "source": [
    "x = \"global\"\n",
    "y = \"Y GLOBAL\"\n",
    "\n",
    "# définition d'une fonction <=> définir un scope <=> portée, un espace fermé\n",
    "def outer():\n",
    "    x = \"enclosing\"\n",
    "    print(\"dans outer\", y)\n",
    "    # On définit une fonction donc un espace fermé un scope \n",
    "    def inner():\n",
    "        x = \"local\"\n",
    "        print(\"dans inner\", y)\n",
    "        print(\"Dans inner :\", x) # il cherche d'abord dans local => enclosing => global\n",
    "    inner()\n",
    "\n",
    "outer()\n",
    "print(\"Dans le module :\", x)"
   ]
  },
  {
   "cell_type": "code",
   "execution_count": 12,
   "id": "e22c2d4a-3ff9-4aba-a308-365c972246e3",
   "metadata": {},
   "outputs": [
    {
     "data": {
      "text/plain": [
       "<function print(*args, sep=' ', end='\\n', file=None, flush=False)>"
      ]
     },
     "execution_count": 12,
     "metadata": {},
     "output_type": "execute_result"
    }
   ],
   "source": [
    "print # la dernière portée qui est l'espace ou le scope builtin dans lequel Python définit toutes ses fonctions"
   ]
  },
  {
   "cell_type": "code",
   "execution_count": 14,
   "id": "0b3e1dd4-689b-40e4-89d2-a8a519477b5a",
   "metadata": {},
   "outputs": [
    {
     "name": "stdout",
     "output_type": "stream",
     "text": [
      "hello\n"
     ]
    }
   ],
   "source": [
    "def foo():\n",
    "    message = \"hello\" # local portée uniquement dans la fonction\n",
    "    print(message)\n",
    "\n",
    "foo()"
   ]
  },
  {
   "cell_type": "code",
   "execution_count": 16,
   "id": "7cc28f4b-a7b1-40cf-b287-af1b3fa3df02",
   "metadata": {},
   "outputs": [],
   "source": [
    "# message # on ne peut pas accèder à cette variable elle n'est pas définit dans le module ou fichier ou script courant, la fonction définit une closure "
   ]
  },
  {
   "cell_type": "code",
   "execution_count": 18,
   "id": "5e4d9c7d-8d20-46bc-99d1-75ff73646c1a",
   "metadata": {},
   "outputs": [
    {
     "name": "stdout",
     "output_type": "stream",
     "text": [
      "Hello Python\n"
     ]
    }
   ],
   "source": [
    "content = \"Hello Python\"\n",
    "\n",
    "def bar():\n",
    "    print(content) # regarde en local ? remonte pour la cherché ici dans global si elle existe il accède à la variable : local => global\n",
    "\n",
    "bar()"
   ]
  },
  {
   "cell_type": "code",
   "execution_count": 21,
   "id": "78293bb3-8976-400c-b194-1b824a86cbe2",
   "metadata": {},
   "outputs": [
    {
     "name": "stdout",
     "output_type": "stream",
     "text": [
      "bonjour\n"
     ]
    }
   ],
   "source": [
    "z = \"bonjour\" # global\n",
    "def baz():\n",
    "    # z = \"Hello\"\n",
    "    print(z) # local => enclosing => global \n",
    "\n",
    "baz()"
   ]
  },
  {
   "cell_type": "code",
   "execution_count": 26,
   "id": "4a78d50d-490b-4d23-9816-7b352011da02",
   "metadata": {},
   "outputs": [
    {
     "name": "stdout",
     "output_type": "stream",
     "text": [
      "global\n"
     ]
    }
   ],
   "source": [
    "y = \"global\"\n",
    "def grace():\n",
    "    # y = \"enclosing\" \n",
    "    def antoine():\n",
    "        # y = \"local\"\n",
    "        print(y) # local => enclosing => global \n",
    "\n",
    "    antoine() # j'appelle la fonction dans la fonction grace\n",
    "\n",
    "grace()"
   ]
  },
  {
   "cell_type": "code",
   "execution_count": 27,
   "id": "61ab2eac-1ef3-4d9f-8faf-9eab69753893",
   "metadata": {},
   "outputs": [
    {
     "data": {
      "text/plain": [
       "7"
      ]
     },
     "execution_count": 27,
     "metadata": {},
     "output_type": "execute_result"
    }
   ],
   "source": [
    "def add(a, b):\n",
    "\n",
    "    return a + b\n",
    "\n",
    "add(3,4)"
   ]
  },
  {
   "cell_type": "code",
   "execution_count": 28,
   "id": "d5e09b6d-0bac-4f25-bfeb-b0a13340c0c5",
   "metadata": {},
   "outputs": [
    {
     "name": "stdout",
     "output_type": "stream",
     "text": [
      "bonjour\n",
      "bonjour\n",
      "bonjour\n",
      "bonjour\n",
      "bonjour\n",
      "bonjour\n",
      "bonjour\n",
      "bonjour\n",
      "bonjour\n",
      "bonjour\n"
     ]
    }
   ],
   "source": [
    "# Une boucle qu'on utilise pour répéter une instruction sans avoir besoin des valeurs du range\n",
    "for _ in range(10):\n",
    "    print(\"bonjour\")"
   ]
  },
  {
   "cell_type": "code",
   "execution_count": 29,
   "id": "25d888b0-2bd3-4384-ad8e-d9ab45007bb3",
   "metadata": {},
   "outputs": [
    {
     "name": "stdout",
     "output_type": "stream",
     "text": [
      "<class 'int'>\n"
     ]
    }
   ],
   "source": [
    "x = 10\n",
    "print( type(x) ) # int"
   ]
  },
  {
   "cell_type": "code",
   "execution_count": 30,
   "id": "8c40dabd-1fef-4e75-8fd2-02a1e28652af",
   "metadata": {},
   "outputs": [
    {
     "name": "stdout",
     "output_type": "stream",
     "text": [
      "<class 'str'>\n"
     ]
    }
   ],
   "source": [
    "x = \"bonjour\"\n",
    "print( type(x) ) # string"
   ]
  },
  {
   "cell_type": "code",
   "execution_count": 31,
   "id": "1f5b7c27-9f46-4347-9faf-d9ff6d067820",
   "metadata": {},
   "outputs": [
    {
     "name": "stdout",
     "output_type": "stream",
     "text": [
      "<class 'bool'>\n"
     ]
    }
   ],
   "source": [
    "x = True\n",
    "print( type(x) ) # bool"
   ]
  },
  {
   "cell_type": "code",
   "execution_count": 33,
   "id": "491163fc-c936-4373-aab9-0f8db2bb344e",
   "metadata": {},
   "outputs": [
    {
     "name": "stdout",
     "output_type": "stream",
     "text": [
      "<class 'float'>\n"
     ]
    }
   ],
   "source": [
    "x = 10.5\n",
    "print( type(x) ) # float"
   ]
  },
  {
   "cell_type": "code",
   "execution_count": 39,
   "id": "dd40c168-67db-4074-81ec-f3d886e6fe14",
   "metadata": {},
   "outputs": [
    {
     "name": "stdout",
     "output_type": "stream",
     "text": [
      "[1]\n",
      "4509205824\n"
     ]
    }
   ],
   "source": [
    "l = [1] # objet \n",
    "print(l)\n",
    "print(id(l))"
   ]
  },
  {
   "cell_type": "code",
   "execution_count": 35,
   "id": "064d2701-3f13-4e5a-a733-deec0fcdf6b6",
   "metadata": {},
   "outputs": [],
   "source": [
    "l.append(2)"
   ]
  },
  {
   "cell_type": "code",
   "execution_count": 40,
   "id": "bf04d3e9-a97c-49d6-9913-4c7c5155892c",
   "metadata": {},
   "outputs": [
    {
     "name": "stdout",
     "output_type": "stream",
     "text": [
      "[1]\n",
      "4509205824\n"
     ]
    }
   ],
   "source": [
    "print(l) # objet qui a muté \n",
    "print(id(l))"
   ]
  },
  {
   "cell_type": "code",
   "execution_count": 37,
   "id": "daff7de9-9f10-4a93-a9fd-9bbb89f439e3",
   "metadata": {},
   "outputs": [
    {
     "data": {
      "text/plain": [
       "4390120152"
      ]
     },
     "execution_count": 37,
     "metadata": {},
     "output_type": "execute_result"
    }
   ],
   "source": [
    "x = 5 \n",
    "\n",
    "id(x) # adresse mémoire"
   ]
  },
  {
   "cell_type": "code",
   "execution_count": 38,
   "id": "a527cb98-c093-49bf-9b00-c07f682afb7c",
   "metadata": {},
   "outputs": [
    {
     "data": {
      "text/plain": [
       "4390120184"
      ]
     },
     "execution_count": 38,
     "metadata": {},
     "output_type": "execute_result"
    }
   ],
   "source": [
    "x = x + 1\n",
    "\n",
    "id(x) # adresse mémoire"
   ]
  },
  {
   "cell_type": "code",
   "execution_count": 41,
   "id": "2afb1f7a-3706-48d3-9c53-753b4b4a27eb",
   "metadata": {},
   "outputs": [
    {
     "name": "stdout",
     "output_type": "stream",
     "text": [
      "<class 'str'>\n",
      "<class 'int'>\n"
     ]
    }
   ],
   "source": [
    "x = \"5\"\n",
    "y = 2\n",
    "# typage fort \n",
    "print( type(x) )\n",
    "print( type(y) )"
   ]
  },
  {
   "cell_type": "code",
   "execution_count": 43,
   "id": "4212e890-a184-440a-8987-9f3d33179959",
   "metadata": {},
   "outputs": [
    {
     "data": {
      "text/plain": [
       "7"
      ]
     },
     "execution_count": 43,
     "metadata": {},
     "output_type": "execute_result"
    }
   ],
   "source": [
    "int(x) + y  # additionner x et y il faut transformer le type x en entier avec la fonction de Python int"
   ]
  },
  {
   "cell_type": "code",
   "execution_count": 44,
   "id": "d48d6d33-8014-4203-93d3-c226d1a3b225",
   "metadata": {},
   "outputs": [
    {
     "name": "stdout",
     "output_type": "stream",
     "text": [
      "{'name': 'Alan', 'notes': [10, 12, 16]}\n"
     ]
    }
   ],
   "source": [
    "student = { \"name\" : \"Alan\" , \"notes\" : [ 10, 12, 16 ] }\n",
    "\n",
    "print(student)"
   ]
  },
  {
   "cell_type": "code",
   "execution_count": 49,
   "id": "8a7ff7cf-37b5-446f-b891-5103d9dcf10b",
   "metadata": {},
   "outputs": [
    {
     "name": "stdout",
     "output_type": "stream",
     "text": [
      "[1, 4, 9, 16, 25, 36]\n"
     ]
    }
   ],
   "source": [
    "# calculer les carrés des nombres de la liste suivante, donnez le résultat sous forme d'une liste \n",
    "\n",
    "numbers = [ 1, 2, 3, 4, 5, 6 ]\n",
    "squares = []\n",
    "\n",
    "for i in range( len(numbers) ):\n",
    "    # print( numbers[i] * numbers[i] )\n",
    "    # squares.append( numbers[i] * numbers[i] ) # pour obtenir un carré je multiplie la valeur par elle meme\n",
    "    squares.append( numbers[i]**2 ) \n",
    "\n",
    "print( squares )"
   ]
  },
  {
   "cell_type": "code",
   "execution_count": 50,
   "id": "d35a7d9c-ee0d-461e-b521-07c093df6028",
   "metadata": {},
   "outputs": [
    {
     "name": "stdout",
     "output_type": "stream",
     "text": [
      "[1, 4, 9, 16, 25, 36]\n"
     ]
    }
   ],
   "source": [
    "numbers = [ 1, 2, 3, 4, 5, 6 ]\n",
    "squares = []\n",
    "\n",
    "for i in range(len(numbers)):\n",
    "    squares.append( numbers[i]**2 )\n",
    "\n",
    "print(squares)"
   ]
  },
  {
   "cell_type": "code",
   "execution_count": 51,
   "id": "876561b6-15cd-4e38-9022-81fe6fed0ccd",
   "metadata": {},
   "outputs": [
    {
     "name": "stdout",
     "output_type": "stream",
     "text": [
      "[1, 4, 9, 16, 25, 36]\n"
     ]
    }
   ],
   "source": [
    "# expression de liste \n",
    "squares = [ number**2 for number in numbers ]\n",
    "print(squares)"
   ]
  },
  {
   "cell_type": "code",
   "execution_count": 53,
   "id": "a9d8dd42-848d-45c0-9514-84092097333f",
   "metadata": {},
   "outputs": [
    {
     "name": "stdout",
     "output_type": "stream",
     "text": [
      "[4, 16, 36]\n"
     ]
    }
   ],
   "source": [
    "# mettre au carré les nombres pairs de la liste numbers \n",
    "squares = [ number**2 for number in numbers  if number % 2 == 0   ] # ajouter un filtre avec un if \n",
    "print(squares)"
   ]
  },
  {
   "cell_type": "code",
   "execution_count": 54,
   "id": "760f0bc7-ebce-4d9a-a59a-b2da10fe752a",
   "metadata": {},
   "outputs": [
    {
     "data": {
      "text/plain": [
       "[(0, 0),\n",
       " (0, 1),\n",
       " (0, 2),\n",
       " (0, 3),\n",
       " (0, 4),\n",
       " (1, 0),\n",
       " (1, 1),\n",
       " (1, 2),\n",
       " (1, 3),\n",
       " (1, 4),\n",
       " (2, 0),\n",
       " (2, 1),\n",
       " (2, 2),\n",
       " (2, 3),\n",
       " (2, 4),\n",
       " (3, 0),\n",
       " (3, 1),\n",
       " (3, 2),\n",
       " (3, 3),\n",
       " (3, 4),\n",
       " (4, 0),\n",
       " (4, 1),\n",
       " (4, 2),\n",
       " (4, 3),\n",
       " (4, 4),\n",
       " (5, 0),\n",
       " (5, 1),\n",
       " (5, 2),\n",
       " (5, 3),\n",
       " (5, 4),\n",
       " (6, 0),\n",
       " (6, 1),\n",
       " (6, 2),\n",
       " (6, 3),\n",
       " (6, 4),\n",
       " (7, 0),\n",
       " (7, 1),\n",
       " (7, 2),\n",
       " (7, 3),\n",
       " (7, 4),\n",
       " (8, 0),\n",
       " (8, 1),\n",
       " (8, 2),\n",
       " (8, 3),\n",
       " (8, 4),\n",
       " (9, 0),\n",
       " (9, 1),\n",
       " (9, 2),\n",
       " (9, 3),\n",
       " (9, 4)]"
      ]
     },
     "execution_count": 54,
     "metadata": {},
     "output_type": "execute_result"
    }
   ],
   "source": [
    "[(x, y) for x in range(10) for y in range(5)]"
   ]
  },
  {
   "cell_type": "code",
   "execution_count": 55,
   "id": "0a22bd44-c3f5-44aa-9900-6372e2df2665",
   "metadata": {},
   "outputs": [
    {
     "name": "stdout",
     "output_type": "stream",
     "text": [
      "[(0, 0), (0, 1), (0, 2), (0, 3), (0, 4), (1, 0), (1, 1), (1, 2), (1, 3), (1, 4), (2, 0), (2, 1), (2, 2), (2, 3), (2, 4), (3, 0), (3, 1), (3, 2), (3, 3), (3, 4), (4, 0), (4, 1), (4, 2), (4, 3), (4, 4), (5, 0), (5, 1), (5, 2), (5, 3), (5, 4), (6, 0), (6, 1), (6, 2), (6, 3), (6, 4), (7, 0), (7, 1), (7, 2), (7, 3), (7, 4), (8, 0), (8, 1), (8, 2), (8, 3), (8, 4), (9, 0), (9, 1), (9, 2), (9, 3), (9, 4)]\n"
     ]
    }
   ],
   "source": [
    "vect = []\n",
    "for x in range(10):\n",
    "    for y in range(5):\n",
    "       vect.append( (x, y) )\n",
    "\n",
    "print(vect)"
   ]
  },
  {
   "cell_type": "code",
   "execution_count": 56,
   "id": "2241c3e4-b89c-4ef0-b00b-f196a1134bad",
   "metadata": {},
   "outputs": [],
   "source": [
    "# Avec les compréhensions de liste d'ajouter +1 aux nombres de la liste suivante"
   ]
  },
  {
   "cell_type": "code",
   "execution_count": 57,
   "id": "05f456b3-85ee-4b9c-84f9-1f6cfa16f5ec",
   "metadata": {},
   "outputs": [
    {
     "name": "stdout",
     "output_type": "stream",
     "text": [
      "[2, 3, 4, 5, 6]\n"
     ]
    }
   ],
   "source": [
    "numbers = [ 1, 2, 3, 4, 5 ]\n",
    "\n",
    "res = [ number + 1 for number in numbers ]\n",
    "\n",
    "print(res)"
   ]
  },
  {
   "cell_type": "code",
   "execution_count": null,
   "id": "b2fb9a71-8d9d-4878-9c7a-e849b91ef89b",
   "metadata": {},
   "outputs": [],
   "source": []
  }
 ],
 "metadata": {
  "kernelspec": {
   "display_name": "Python 3 (ipykernel)",
   "language": "python",
   "name": "python3"
  },
  "language_info": {
   "codemirror_mode": {
    "name": "ipython",
    "version": 3
   },
   "file_extension": ".py",
   "mimetype": "text/x-python",
   "name": "python",
   "nbconvert_exporter": "python",
   "pygments_lexer": "ipython3",
   "version": "3.13.3"
  }
 },
 "nbformat": 4,
 "nbformat_minor": 5
}
