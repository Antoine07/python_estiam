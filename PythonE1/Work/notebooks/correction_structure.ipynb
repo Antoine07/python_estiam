{
 "cells": [
  {
   "cell_type": "markdown",
   "id": "5255363e-f1dc-4971-acc4-cf77bd193db7",
   "metadata": {},
   "source": [
    "### Exercice 1 — Recherche et tri manuel\n",
    "\n",
    "Écrire une fonction selection_sort(liste) qui trie une liste de nombres sans utiliser sort().\n",
    "Utiliser l'algorithme du tri par sélection.\n",
    "\n",
    "#### Bonus : compter le nombre d'échanges effectués."
   ]
  },
  {
   "cell_type": "code",
   "execution_count": 17,
   "id": "35e64e42-283b-45cc-9764-efb9e669d64f",
   "metadata": {},
   "outputs": [],
   "source": [
    "def selection_sort(liste):\n",
    "    n = len(liste)\n",
    "    nb_etapes = 0\n",
    "    for i in range(n):\n",
    "        min_idx = i # que c'est l'indice de l'élément le plus petit \n",
    "        for j in range(i + 1, n): # on cherhce si il existe un élément plus petit\n",
    "            nb_etapes += 1\n",
    "            if liste[j] < liste[min_idx]:\n",
    "                min_idx = j\n",
    "        liste[i], liste[min_idx] =  liste[min_idx], liste[i]  # en Python on peut permuter des valeurs avec des tuples\n",
    "\n",
    "    return liste, nb_etapes # un tuple \n",
    "\n"
   ]
  },
  {
   "cell_type": "markdown",
   "id": "ebda84d1-abe3-4829-8683-e9ec07cd12f1",
   "metadata": {},
   "source": [
    "Faire tourner le programme\n",
    "[5, 3, 8, 1] n = 4 la longueur \n",
    "\n",
    "nb_etapes = 0\n",
    "de 0 à 4:\n",
    "i = 0,  min_idx = 0\n",
    "   de 1 à 4:\n",
    "      nb_etapes += 1\n",
    "      si 3 < 5:\n",
    "        min_idx = 1\n",
    "    \n",
    "TODO mettre l'algo \"le faire le tourner\""
   ]
  },
  {
   "cell_type": "code",
   "execution_count": 18,
   "id": "c82bbc97-3a1e-4d9b-ba9a-06ec8d783f51",
   "metadata": {},
   "outputs": [
    {
     "name": "stdout",
     "output_type": "stream",
     "text": [
      "([1, 3, 5, 8], 6)\n",
      "a :1, b: 2\n",
      "a :2, b: 1\n",
      "a :3, b: 4\n"
     ]
    }
   ],
   "source": [
    "print(selection_sort([5, 3, 8, 1]))\n",
    "\n",
    "# Explication de la linge liste[i], liste[min_idx] =  liste[min_idx], liste[i] \n",
    "a = 1\n",
    "b = 2\n",
    "print(f\"a :{a}, b: {b}\")\n",
    "a, b = b, a # on peut permuter comme suit \n",
    "print(f\"a :{a}, b: {b}\")\n",
    "(a, b) = (3, 4)\n",
    "print(f\"a :{a}, b: {b}\")"
   ]
  },
  {
   "cell_type": "markdown",
   "id": "93e982e1-a758-4c59-bb90-18b275819fc9",
   "metadata": {},
   "source": [
    "### Exercice 2 — Recherche du minimum\n",
    "Écrire une fonction find_min(liste) qui retourne l'indice du plus petit élément.\n",
    "Tester avec plusieurs cas."
   ]
  },
  {
   "cell_type": "code",
   "execution_count": 24,
   "id": "06243cb6-2001-4a1c-aa57-63cddfcd1bae",
   "metadata": {},
   "outputs": [
    {
     "name": "stdout",
     "output_type": "stream",
     "text": [
      "(4, 0)\n"
     ]
    }
   ],
   "source": [
    "def find_min(l):\n",
    "    min_idx = 0\n",
    "    for i in range(1, len(l) ):\n",
    "        if l[i] < l[min_idx]:\n",
    "            min_idx = i \n",
    "    return min_idx, l[min_idx] # l'indice et le nombre \n",
    "    \n",
    "print( find_min([8, 3, 9,1, 0,  2]) )"
   ]
  },
  {
   "cell_type": "markdown",
   "id": "c962ce4b-10a6-426e-884c-7a3e8a92f2f0",
   "metadata": {},
   "source": [
    "### Exercice 3 — Points et distances\n",
    "Créer une liste de 5 points (x, y) aléatoires (tuples).\n",
    "Écrire une fonction nearest_point(points) qui retourne le point le plus proche de l'origine (0,0).\n",
    "\n",
    "1. Utilisez la liste points de valeurs numériques tuples (x, y).\n",
    "2. Écrire une fonction nearest_point(points) qui retourne le point le plus proche de l'origine (0,0)."
   ]
  },
  {
   "cell_type": "code",
   "execution_count": 25,
   "id": "fa4d583c-9155-4d18-aff1-68cde1753807",
   "metadata": {},
   "outputs": [],
   "source": [
    "p1= (0, 0)\n",
    "p2= (2, 1)"
   ]
  },
  {
   "cell_type": "code",
   "execution_count": 41,
   "id": "239c1273-0c21-4cad-9f38-5e0ad093260b",
   "metadata": {},
   "outputs": [],
   "source": [
    "# sqrt # fonction du module random de Python permettant de calculer la distance\n",
    "\n",
    "points = [(1, 2), (3, 4), (0, 5)] # le plus proche de (0,0)"
   ]
  },
  {
   "cell_type": "code",
   "execution_count": 42,
   "id": "b96638ab-2373-4d6f-8dff-069e1d49a039",
   "metadata": {},
   "outputs": [],
   "source": [
    "from math import sqrt"
   ]
  },
  {
   "cell_type": "code",
   "execution_count": 43,
   "id": "be65917b-123a-4d11-a92e-d4ffdeb855bc",
   "metadata": {},
   "outputs": [],
   "source": [
    "# En utilisant cette formule => tu vas avoir une liste de valeurs, la plus petite est la proche 0\n",
    "def distance(p1, p2):\n",
    "\n",
    "    return sqrt( (p2[0] - p1[0])**2 + (p2[1] - p1[1])**2 )"
   ]
  },
  {
   "cell_type": "code",
   "execution_count": 47,
   "id": "37c5936a-a2f1-43ef-bb1f-f9d49ea171c0",
   "metadata": {},
   "outputs": [],
   "source": [
    "def distanceZero(p):\n",
    "\n",
    "    return round( sqrt(p[0]**2 + p[1]**2), 2 )"
   ]
  },
  {
   "cell_type": "code",
   "execution_count": 48,
   "id": "b429e369-f90b-440d-b865-179f254babad",
   "metadata": {},
   "outputs": [
    {
     "name": "stdout",
     "output_type": "stream",
     "text": [
      "2.24\n",
      "5.0\n",
      "5.0\n"
     ]
    }
   ],
   "source": [
    "for p in points:\n",
    "    print(distanceZero(p)) # distance d'un point par rapport à l'origine "
   ]
  },
  {
   "cell_type": "code",
   "execution_count": 51,
   "id": "8009d70e-d79d-472d-9d0b-4f00a5c22726",
   "metadata": {},
   "outputs": [
    {
     "name": "stdout",
     "output_type": "stream",
     "text": [
      "(0, 2.24)\n"
     ]
    }
   ],
   "source": [
    "distances = [ distanceZero(p) for p in points ]\n",
    "\n",
    "print( find_min(distances ) ) # avec notre fonction mais attention elle renvoie la position et la valeur"
   ]
  },
  {
   "cell_type": "code",
   "execution_count": 52,
   "id": "953bba28-1dd6-4760-8ea8-bb0c14a14bbf",
   "metadata": {},
   "outputs": [
    {
     "name": "stdout",
     "output_type": "stream",
     "text": [
      "2.24\n"
     ]
    }
   ],
   "source": [
    "print( min( distances ) )"
   ]
  },
  {
   "cell_type": "code",
   "execution_count": 53,
   "id": "f5ebae9b-0fc2-4f77-8ebf-f4129a49cdc8",
   "metadata": {},
   "outputs": [
    {
     "data": {
      "text/plain": [
       "2.24"
      ]
     },
     "execution_count": 53,
     "metadata": {},
     "output_type": "execute_result"
    }
   ],
   "source": [
    "# une autre manière plus rapide \n",
    "min(  distanceZero(p) for p in points ) # compréhension de liste directement dans la fonction min "
   ]
  },
  {
   "cell_type": "code",
   "execution_count": 55,
   "id": "3acdc131-4e3a-4f1a-99bf-cd8c34581d18",
   "metadata": {},
   "outputs": [],
   "source": [
    "# Révision \n",
    "# list,  tuples, dictionnaire,  set\n",
    "\n",
    "# mutables ? list set dictionnaire\n",
    "# immuable tuple\n",
    "\n",
    "t = ( 1, 2 ) # \n",
    "# t[0] = 2"
   ]
  },
  {
   "cell_type": "markdown",
   "id": "4d83fa13-cdb8-4b39-a9e4-812b883a0830",
   "metadata": {},
   "source": [
    "### Exercice\n",
    "\n",
    "Soient deux listes de points faites la somme de chaque coordonnées de ces points.\n",
    "\n",
    "```python\n",
    "pointA = [(1, 2), (3, 4), (0, 5)]\n",
    "pointB = [(2, 2), (1, 5), (1, 4)]\n",
    "```"
   ]
  },
  {
   "cell_type": "code",
   "execution_count": 57,
   "id": "422912c3-3efe-453d-a4e6-fde8561ac0c7",
   "metadata": {},
   "outputs": [
    {
     "name": "stdout",
     "output_type": "stream",
     "text": [
      "[(3, 4), (4, 9), (1, 9)]\n"
     ]
    }
   ],
   "source": [
    "# valide pour répondre à la question\n",
    "coord = []\n",
    "pointA = [(1, 2), (3, 4), (0, 5)]\n",
    "pointB = [(2, 2), (1, 5), (1, 4)]\n",
    "\n",
    "for i in range(len(pointA)):\n",
    "    x = pointA[i][0] + pointB[i][0]\n",
    "    y = pointA[i][1] + pointB[i][1]\n",
    "    coord.append( (x, y) )\n",
    "\n",
    "print(coord)"
   ]
  },
  {
   "cell_type": "code",
   "execution_count": 59,
   "id": "c2319d85-1eeb-499e-b39d-7526b5f1e880",
   "metadata": {},
   "outputs": [
    {
     "data": {
      "text/plain": [
       "[(3, 4), (4, 9), (1, 9)]"
      ]
     },
     "execution_count": 59,
     "metadata": {},
     "output_type": "execute_result"
    }
   ],
   "source": [
    "# valide pour répondre à la question ++\n",
    "[ (pointA[i][0] + pointB[i][0], pointA[i][1] + pointB[i][1]) for i in range(len(pointA)) ]"
   ]
  },
  {
   "cell_type": "code",
   "execution_count": 62,
   "id": "9d3358e1-d7a6-448b-a56b-f4ca6a3e5a32",
   "metadata": {},
   "outputs": [],
   "source": [
    "# valide pour répondre à la question ++ avec une fonction \n",
    "def somme_coordonnees(pA, pB):\n",
    "    s_coord_A = pA[0] + pB[0]\n",
    "    s_coord_B = pA[1] + pB[1]\n",
    "    \n",
    "    return s_coord_A, s_coord_B"
   ]
  },
  {
   "cell_type": "code",
   "execution_count": 63,
   "id": "9aafbe4f-2228-43d5-a8f2-fc58c9531fd2",
   "metadata": {},
   "outputs": [
    {
     "data": {
      "text/plain": [
       "[(3, 4), (4, 9), (1, 9)]"
      ]
     },
     "execution_count": 63,
     "metadata": {},
     "output_type": "execute_result"
    }
   ],
   "source": [
    "[ somme_coordonnees(pointA[i], pointB[i]) for i in range(len(pointA)) ]"
   ]
  },
  {
   "cell_type": "code",
   "execution_count": 64,
   "id": "21a3f64f-09e6-4e90-a494-290f436bb1ce",
   "metadata": {},
   "outputs": [
    {
     "data": {
      "text/plain": [
       "[((1, 2), (2, 2)), ((3, 4), (1, 5)), ((0, 5), (1, 4))]"
      ]
     },
     "execution_count": 64,
     "metadata": {},
     "output_type": "execute_result"
    }
   ],
   "source": [
    "# # valide pour répondre à la question ++++\n",
    "# Avec zip une fonction de Python qui permet de rassembler deux choses \n",
    "list( zip(pointA, pointB) )"
   ]
  },
  {
   "cell_type": "code",
   "execution_count": 66,
   "id": "59766fff-83ea-48b5-a2ec-76e317b287c7",
   "metadata": {},
   "outputs": [
    {
     "data": {
      "text/plain": [
       "[(3, 4), (4, 9), (1, 9)]"
      ]
     },
     "execution_count": 66,
     "metadata": {},
     "output_type": "execute_result"
    }
   ],
   "source": [
    "[ (a[0]+b[0], a[1] + b[1] )  for a, b in zip(pointA, pointB) ]"
   ]
  },
  {
   "cell_type": "markdown",
   "id": "a2c0da1c-ac66-4ab2-b84f-1b98c94b0c36",
   "metadata": {},
   "source": [
    "### Exercice 3\n",
    "1. Créer deux ensembles A et B de prénoms\n",
    "\n",
    "1. afficher les prénoms communs,\n",
    "1. afficher ceux présents uniquement dans A.\n",
    "\n",
    "Rappels de cours :\n",
    "\n",
    "```python\n",
    "\n",
    "A = {1, 2, 3}\n",
    "B = {3, 4, 5}\n",
    "\n",
    "print(A | B)  # union {1, 2, 3, 4, 5}\n",
    "print(A & B)  # intersection {3}\n",
    "print(A - B)  # différence {1, 2}\n",
    "```"
   ]
  },
  {
   "cell_type": "code",
   "execution_count": 67,
   "id": "c78f66b9-d37e-4610-98eb-256c1578de52",
   "metadata": {},
   "outputs": [],
   "source": [
    "A = { \"Alan\", \"Sophie\", \"Marie\" }\n",
    "B = {\"Alan\", \"Sylvie\", \"Bernard\", \"Samuel\" }"
   ]
  },
  {
   "cell_type": "code",
   "execution_count": 68,
   "id": "bd686139-a765-4f9d-aa19-f5a450f6e651",
   "metadata": {},
   "outputs": [
    {
     "name": "stdout",
     "output_type": "stream",
     "text": [
      "{'Alan'}\n"
     ]
    }
   ],
   "source": [
    "print( A & B )"
   ]
  },
  {
   "cell_type": "code",
   "execution_count": 69,
   "id": "ea123bed-0698-4595-b555-63dc608d387e",
   "metadata": {},
   "outputs": [
    {
     "name": "stdout",
     "output_type": "stream",
     "text": [
      "{'Sophie', 'Marie'}\n"
     ]
    }
   ],
   "source": [
    "print( A - B )"
   ]
  },
  {
   "cell_type": "markdown",
   "id": "5b33d2f1-74a2-4849-a227-698c28418c43",
   "metadata": {},
   "source": [
    "### Exercice \n",
    "Comment dans la liste numbers suivante vous vous débarassez des doublons, utilisez les sets et transformer la liste en ensemble.\n",
    "\n",
    "```python\n",
    "numbers = [1, 2, 3, 5, 6, 5, 8, 5 ]\n",
    "```"
   ]
  },
  {
   "cell_type": "code",
   "execution_count": 73,
   "id": "e34de2b0-1dff-465f-8a40-01130f8f48d7",
   "metadata": {},
   "outputs": [
    {
     "data": {
      "text/plain": [
       "[1, 2, 3, 5, 6, 8]"
      ]
     },
     "execution_count": 73,
     "metadata": {},
     "output_type": "execute_result"
    }
   ],
   "source": [
    "numbers = [1, 2, 3, 5, 6, 5, 8, 5 ]\n",
    "list( set( numbers ) ) # transformer une liste en ensemble puis un ensemble en liste."
   ]
  },
  {
   "cell_type": "code",
   "execution_count": 74,
   "id": "f717bfbd-f51c-4349-b4ba-e8c31776c192",
   "metadata": {},
   "outputs": [],
   "source": [
    "### Exercice \n",
    "\n",
    "```python\n",
    "students = {\n",
    "    \"Alice\": (\"IA\", [15, 17, 14]),\n",
    "    \"Bob\": (\"Robotique\", [12, 14, 13]),\n",
    "    \"Charlie\": (\"Data Science\", [18, 19, 17]),\n",
    "}\n",
    "\n",
    "```\n",
    "1. Parcourir le dictionnaire et afficher son contenu\n"
   ]
  },
  {
   "cell_type": "code",
   "execution_count": null,
   "id": "a386cf76-2253-4706-980a-135b3c47e261",
   "metadata": {},
   "outputs": [],
   "source": []
  }
 ],
 "metadata": {
  "kernelspec": {
   "display_name": "Python 3 (ipykernel)",
   "language": "python",
   "name": "python3"
  },
  "language_info": {
   "codemirror_mode": {
    "name": "ipython",
    "version": 3
   },
   "file_extension": ".py",
   "mimetype": "text/x-python",
   "name": "python",
   "nbconvert_exporter": "python",
   "pygments_lexer": "ipython3",
   "version": "3.13.3"
  }
 },
 "nbformat": 4,
 "nbformat_minor": 5
}
