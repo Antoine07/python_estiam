{
 "cells": [
  {
   "cell_type": "code",
   "execution_count": 21,
   "id": "f7007d18-04fc-4fb4-b33c-ae25ec52c6c3",
   "metadata": {},
   "outputs": [
    {
     "name": "stdout",
     "output_type": "stream",
     "text": [
      "0\n",
      "1\n",
      "3\n",
      "4\n"
     ]
    }
   ],
   "source": [
    "for i in range(5):\n",
    "    if i == 2:\n",
    "        continue # passe à l'intération suivante n'affichera pas 2\n",
    "\n",
    "    print(i)"
   ]
  },
  {
   "cell_type": "code",
   "execution_count": 30,
   "id": "1bb47c67-9e97-4fed-98e5-a5302da22295",
   "metadata": {},
   "outputs": [
    {
     "name": "stdout",
     "output_type": "stream",
     "text": [
      "11.2\n"
     ]
    }
   ],
   "source": [
    "f = open('notes.txt', 'r') # ouvre le fichier et ça met le pointeur de fichier au début\n",
    "\n",
    "# le pointeur du fichier se déplace pour parcourir tout le fichier \n",
    "s = 0\n",
    "c = 0\n",
    "for line in f:\n",
    "    v = line.strip()\n",
    "    if v =='notes': continue # permet de sauter l'itération\n",
    "    s += int(v)\n",
    "    c += 1\n",
    "\n",
    "print(s/c)\n",
    "f.close()"
   ]
  },
  {
   "cell_type": "code",
   "execution_count": 44,
   "id": "e187c3f8-0c0a-4b5e-85da-79644b5539d2",
   "metadata": {},
   "outputs": [
    {
     "name": "stdout",
     "output_type": "stream",
     "text": [
      "11.2\n"
     ]
    }
   ],
   "source": [
    "f = open('notes.txt', 'r')\n",
    "\n",
    "notes = [ int( v.strip() ) for v in f if v.strip() != 'notes'  ]\n",
    "\n",
    "average = sum(notes) / len(notes)\n",
    "\n",
    "print(average)\n",
    "\n",
    "f.close()"
   ]
  },
  {
   "cell_type": "code",
   "execution_count": null,
   "id": "a2f3e424-441f-4981-88be-18bc603d961c",
   "metadata": {},
   "outputs": [],
   "source": []
  }
 ],
 "metadata": {
  "kernelspec": {
   "display_name": "Python 3 (ipykernel)",
   "language": "python",
   "name": "python3"
  },
  "language_info": {
   "codemirror_mode": {
    "name": "ipython",
    "version": 3
   },
   "file_extension": ".py",
   "mimetype": "text/x-python",
   "name": "python",
   "nbconvert_exporter": "python",
   "pygments_lexer": "ipython3",
   "version": "3.13.3"
  }
 },
 "nbformat": 4,
 "nbformat_minor": 5
}
