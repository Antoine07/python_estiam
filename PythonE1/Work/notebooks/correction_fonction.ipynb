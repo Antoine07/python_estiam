{
 "cells": [
  {
   "cell_type": "markdown",
   "id": "c94ad28e-35b2-4bb2-96a6-c8b3335042c8",
   "metadata": {},
   "source": [
    "# Exercice 1 – Fonctions et transformation de texte\n",
    "Objectif :\n",
    "## Créer des fonctions simples pour manipuler une chaîne de caractères.\n",
    "\n",
    "```python\n",
    "phrase = \"Python rend le code clair et concis\"\n",
    "```\n",
    "## Tâches\n",
    "1. Écrire une fonction inverse(txt) qui retourne la chaîne inversée à l’aide du slicing.\n",
    "1. Écrire une fonction extract_word(txt, word) qui renvoie True si le mot est présent.\n",
    "1. Écrire une fonction first_word(txt, n) qui renvoie les n premiers mots de la phrase.\n",
    "*Appeler ces fonctions sur la variable phrase et afficher les résultats.*"
   ]
  },
  {
   "cell_type": "code",
   "execution_count": 5,
   "id": "71e16651-7d62-4d4c-9850-c9904c5345ca",
   "metadata": {},
   "outputs": [],
   "source": [
    "phrase = \"Python rend le code clair et concis\""
   ]
  },
  {
   "cell_type": "code",
   "execution_count": 6,
   "id": "a9f8bc6b-aeb2-4427-babd-166391376e28",
   "metadata": {},
   "outputs": [
    {
     "data": {
      "text/plain": [
       "'sicnoc te rialc edoc el dner nohtyP'"
      ]
     },
     "execution_count": 6,
     "metadata": {},
     "output_type": "execute_result"
    }
   ],
   "source": [
    "def inverse(text):\n",
    "    return text[::-1]\n",
    "\n",
    "inverse(phrase)"
   ]
  },
  {
   "cell_type": "code",
   "execution_count": 17,
   "id": "ce33c7fe-69a0-45c5-b72e-896ad57dd10a",
   "metadata": {},
   "outputs": [],
   "source": [
    "def extract_word(txt, word):\n",
    "    l_w = len(word)\n",
    "    l_t = len(txt)\n",
    "    \n",
    "    if l_t > 0:\n",
    "        for i in range(l_t - l_w):\n",
    "            if txt[i:(l_w + i)] == word: \n",
    "                return True, i\n",
    "\n",
    "    return False, None\n"
   ]
  },
  {
   "cell_type": "code",
   "execution_count": 18,
   "id": "c381348b-0633-4638-8590-c429fe8bb17b",
   "metadata": {},
   "outputs": [
    {
     "data": {
      "text/plain": [
       "(False, None)"
      ]
     },
     "execution_count": 18,
     "metadata": {},
     "output_type": "execute_result"
    }
   ],
   "source": [
    "extract_word(phrase, 'codes')"
   ]
  },
  {
   "cell_type": "code",
   "execution_count": 20,
   "id": "55ae37c2-2a63-4caf-a465-fcad6a4ebd6c",
   "metadata": {},
   "outputs": [
    {
     "data": {
      "text/plain": [
       "True"
      ]
     },
     "execution_count": 20,
     "metadata": {},
     "output_type": "execute_result"
    }
   ],
   "source": [
    "# deuxième version\n",
    "def extract_word(txt, word):\n",
    "    return word in txt\n",
    "extract_word(phrase, 'code')"
   ]
  },
  {
   "cell_type": "code",
   "execution_count": 28,
   "id": "775aeac1-6d5d-4550-b15e-210b7effb375",
   "metadata": {},
   "outputs": [
    {
     "data": {
      "text/plain": [
       "'Python rend le'"
      ]
     },
     "execution_count": 28,
     "metadata": {},
     "output_type": "execute_result"
    }
   ],
   "source": [
    "def first_word(txt, n):\n",
    "\n",
    "    return \" \".join( txt.split()[:n] )\n",
    "\n",
    "first_word(phrase, 3)"
   ]
  },
  {
   "cell_type": "markdown",
   "id": "13b2fd33-8871-4b60-a192-09132b8829a8",
   "metadata": {},
   "source": [
    "# Exercice 2 – Analyse de données numériques\n",
    "## Objectif :\n",
    "Utiliser des fonctions pour analyser une liste de nombres.\n",
    "```python\n",
    "notes = [12, 15, 8, 19, 14, 9, 17, 13, 18, 10]\n",
    "```\n",
    "## Tâches\n",
    "1. Créer une fonction average(data) qui retourne la moyenne des valeurs.\n",
    "1. Créer une fonction top_n(liste, n) qui retourne les n meilleures notes (en utilisant sorted() et slicing)."
   ]
  },
  {
   "cell_type": "code",
   "execution_count": 29,
   "id": "e53dd335-82d7-4230-b50e-96702c5c3454",
   "metadata": {},
   "outputs": [],
   "source": [
    "notes = [12, 15, 8, 19, 14, 9, 17, 13, 18, 10]"
   ]
  },
  {
   "cell_type": "code",
   "execution_count": 30,
   "id": "14a4f591-2003-41bd-9a4a-897c0e96a1e5",
   "metadata": {},
   "outputs": [
    {
     "data": {
      "text/plain": [
       "13.5"
      ]
     },
     "execution_count": 30,
     "metadata": {},
     "output_type": "execute_result"
    }
   ],
   "source": [
    "def average(notes, precision = 2):\n",
    "\n",
    "    if len(notes) > 0:\n",
    "        return round( sum(notes)/len(notes), precision )\n",
    "\n",
    "average(notes)"
   ]
  },
  {
   "cell_type": "code",
   "execution_count": 38,
   "id": "e28569e3-9074-4958-865f-77b463459f1e",
   "metadata": {},
   "outputs": [],
   "source": [
    "def top_n(notes, n):\n",
    "    return sorted(notes, reverse=True)[:n]\n",
    "\n",
    "# help(sorted) # documentation"
   ]
  },
  {
   "cell_type": "code",
   "execution_count": 39,
   "id": "c9908ef6-48e8-4d38-aa73-90577035f4af",
   "metadata": {},
   "outputs": [
    {
     "data": {
      "text/plain": [
       "[19, 18]"
      ]
     },
     "execution_count": 39,
     "metadata": {},
     "output_type": "execute_result"
    }
   ],
   "source": [
    "sorted(notes, reverse=True)[:2]"
   ]
  },
  {
   "cell_type": "code",
   "execution_count": 40,
   "id": "786fbe16-1567-4c1d-abce-776377e4caaf",
   "metadata": {},
   "outputs": [
    {
     "data": {
      "text/plain": [
       "[19, 18, 17, 15]"
      ]
     },
     "execution_count": 40,
     "metadata": {},
     "output_type": "execute_result"
    }
   ],
   "source": [
    "top_n(notes, 4)"
   ]
  },
  {
   "cell_type": "code",
   "execution_count": null,
   "id": "0844bc5f-cab0-4961-a7be-f478f8704e19",
   "metadata": {},
   "outputs": [],
   "source": []
  }
 ],
 "metadata": {
  "kernelspec": {
   "display_name": "Python 3 (ipykernel)",
   "language": "python",
   "name": "python3"
  },
  "language_info": {
   "codemirror_mode": {
    "name": "ipython",
    "version": 3
   },
   "file_extension": ".py",
   "mimetype": "text/x-python",
   "name": "python",
   "nbconvert_exporter": "python",
   "pygments_lexer": "ipython3",
   "version": "3.13.3"
  }
 },
 "nbformat": 4,
 "nbformat_minor": 5
}
